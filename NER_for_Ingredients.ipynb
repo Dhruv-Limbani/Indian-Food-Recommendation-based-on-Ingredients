{
  "nbformat": 4,
  "nbformat_minor": 0,
  "metadata": {
    "colab": {
      "provenance": [],
      "gpuType": "T4",
      "authorship_tag": "ABX9TyOGrODWEmRVc5yYqA4NKItl",
      "include_colab_link": true
    },
    "kernelspec": {
      "name": "python3",
      "display_name": "Python 3"
    },
    "language_info": {
      "name": "python"
    },
    "accelerator": "GPU"
  },
  "cells": [
    {
      "cell_type": "markdown",
      "metadata": {
        "id": "view-in-github",
        "colab_type": "text"
      },
      "source": [
        "<a href=\"https://colab.research.google.com/github/Dhruv-Limbani/Indian-Food-Recommendation-based-on-Ingredients/blob/master/NER_for_Ingredients.ipynb\" target=\"_parent\"><img src=\"https://colab.research.google.com/assets/colab-badge.svg\" alt=\"Open In Colab\"/></a>"
      ]
    },
    {
      "cell_type": "markdown",
      "source": [
        "References:\n",
        "\n",
        "https://github.com/taisti/TASTEset/tree/main"
      ],
      "metadata": {
        "id": "RS1UWZP5G_Xn"
      }
    },
    {
      "cell_type": "code",
      "execution_count": null,
      "metadata": {
        "colab": {
          "base_uri": "https://localhost:8080/"
        },
        "id": "hYdDVLeCE9gp",
        "outputId": "7cf3ee12-f76d-49c6-dd2b-1e6557477076"
      },
      "outputs": [
        {
          "output_type": "stream",
          "name": "stdout",
          "text": [
            "Requirement already satisfied: spacy in /usr/local/lib/python3.10/dist-packages (3.7.6)\n",
            "Collecting spacy\n",
            "  Downloading spacy-3.8.0-cp310-cp310-manylinux_2_17_x86_64.manylinux2014_x86_64.whl.metadata (27 kB)\n",
            "Requirement already satisfied: spacy-legacy<3.1.0,>=3.0.11 in /usr/local/lib/python3.10/dist-packages (from spacy) (3.0.12)\n",
            "Requirement already satisfied: spacy-loggers<2.0.0,>=1.0.0 in /usr/local/lib/python3.10/dist-packages (from spacy) (1.0.5)\n",
            "Requirement already satisfied: murmurhash<1.1.0,>=0.28.0 in /usr/local/lib/python3.10/dist-packages (from spacy) (1.0.10)\n",
            "Requirement already satisfied: cymem<2.1.0,>=2.0.2 in /usr/local/lib/python3.10/dist-packages (from spacy) (2.0.8)\n",
            "Requirement already satisfied: preshed<3.1.0,>=3.0.2 in /usr/local/lib/python3.10/dist-packages (from spacy) (3.0.9)\n",
            "Requirement already satisfied: thinc<8.3.0,>=8.2.2 in /usr/local/lib/python3.10/dist-packages (from spacy) (8.2.5)\n",
            "Requirement already satisfied: wasabi<1.2.0,>=0.9.1 in /usr/local/lib/python3.10/dist-packages (from spacy) (1.1.3)\n",
            "Requirement already satisfied: srsly<3.0.0,>=2.4.3 in /usr/local/lib/python3.10/dist-packages (from spacy) (2.4.8)\n",
            "Requirement already satisfied: catalogue<2.1.0,>=2.0.6 in /usr/local/lib/python3.10/dist-packages (from spacy) (2.0.10)\n",
            "Requirement already satisfied: weasel<0.5.0,>=0.1.0 in /usr/local/lib/python3.10/dist-packages (from spacy) (0.4.1)\n",
            "Requirement already satisfied: typer<1.0.0,>=0.3.0 in /usr/local/lib/python3.10/dist-packages (from spacy) (0.12.5)\n",
            "Requirement already satisfied: tqdm<5.0.0,>=4.38.0 in /usr/local/lib/python3.10/dist-packages (from spacy) (4.66.5)\n",
            "Requirement already satisfied: requests<3.0.0,>=2.13.0 in /usr/local/lib/python3.10/dist-packages (from spacy) (2.32.3)\n",
            "Requirement already satisfied: pydantic!=1.8,!=1.8.1,<3.0.0,>=1.7.4 in /usr/local/lib/python3.10/dist-packages (from spacy) (2.9.1)\n",
            "Requirement already satisfied: jinja2 in /usr/local/lib/python3.10/dist-packages (from spacy) (3.1.4)\n",
            "Requirement already satisfied: setuptools in /usr/local/lib/python3.10/dist-packages (from spacy) (71.0.4)\n",
            "Requirement already satisfied: packaging>=20.0 in /usr/local/lib/python3.10/dist-packages (from spacy) (24.1)\n",
            "Requirement already satisfied: langcodes<4.0.0,>=3.2.0 in /usr/local/lib/python3.10/dist-packages (from spacy) (3.4.0)\n",
            "Requirement already satisfied: numpy>=1.19.0 in /usr/local/lib/python3.10/dist-packages (from spacy) (1.26.4)\n",
            "Requirement already satisfied: language-data>=1.2 in /usr/local/lib/python3.10/dist-packages (from langcodes<4.0.0,>=3.2.0->spacy) (1.2.0)\n",
            "Requirement already satisfied: annotated-types>=0.6.0 in /usr/local/lib/python3.10/dist-packages (from pydantic!=1.8,!=1.8.1,<3.0.0,>=1.7.4->spacy) (0.7.0)\n",
            "Requirement already satisfied: pydantic-core==2.23.3 in /usr/local/lib/python3.10/dist-packages (from pydantic!=1.8,!=1.8.1,<3.0.0,>=1.7.4->spacy) (2.23.3)\n",
            "Requirement already satisfied: typing-extensions>=4.6.1 in /usr/local/lib/python3.10/dist-packages (from pydantic!=1.8,!=1.8.1,<3.0.0,>=1.7.4->spacy) (4.12.2)\n",
            "Requirement already satisfied: charset-normalizer<4,>=2 in /usr/local/lib/python3.10/dist-packages (from requests<3.0.0,>=2.13.0->spacy) (3.3.2)\n",
            "Requirement already satisfied: idna<4,>=2.5 in /usr/local/lib/python3.10/dist-packages (from requests<3.0.0,>=2.13.0->spacy) (3.8)\n",
            "Requirement already satisfied: urllib3<3,>=1.21.1 in /usr/local/lib/python3.10/dist-packages (from requests<3.0.0,>=2.13.0->spacy) (2.0.7)\n",
            "Requirement already satisfied: certifi>=2017.4.17 in /usr/local/lib/python3.10/dist-packages (from requests<3.0.0,>=2.13.0->spacy) (2024.8.30)\n",
            "Requirement already satisfied: blis<0.8.0,>=0.7.8 in /usr/local/lib/python3.10/dist-packages (from thinc<8.3.0,>=8.2.2->spacy) (0.7.11)\n",
            "Requirement already satisfied: confection<1.0.0,>=0.0.1 in /usr/local/lib/python3.10/dist-packages (from thinc<8.3.0,>=8.2.2->spacy) (0.1.5)\n",
            "Requirement already satisfied: click>=8.0.0 in /usr/local/lib/python3.10/dist-packages (from typer<1.0.0,>=0.3.0->spacy) (8.1.7)\n",
            "Requirement already satisfied: shellingham>=1.3.0 in /usr/local/lib/python3.10/dist-packages (from typer<1.0.0,>=0.3.0->spacy) (1.5.4)\n",
            "Requirement already satisfied: rich>=10.11.0 in /usr/local/lib/python3.10/dist-packages (from typer<1.0.0,>=0.3.0->spacy) (13.8.1)\n",
            "Requirement already satisfied: cloudpathlib<1.0.0,>=0.7.0 in /usr/local/lib/python3.10/dist-packages (from weasel<0.5.0,>=0.1.0->spacy) (0.19.0)\n",
            "Requirement already satisfied: smart-open<8.0.0,>=5.2.1 in /usr/local/lib/python3.10/dist-packages (from weasel<0.5.0,>=0.1.0->spacy) (7.0.4)\n",
            "Requirement already satisfied: MarkupSafe>=2.0 in /usr/local/lib/python3.10/dist-packages (from jinja2->spacy) (2.1.5)\n",
            "Requirement already satisfied: marisa-trie>=0.7.7 in /usr/local/lib/python3.10/dist-packages (from language-data>=1.2->langcodes<4.0.0,>=3.2.0->spacy) (1.2.0)\n",
            "Requirement already satisfied: markdown-it-py>=2.2.0 in /usr/local/lib/python3.10/dist-packages (from rich>=10.11.0->typer<1.0.0,>=0.3.0->spacy) (3.0.0)\n",
            "Requirement already satisfied: pygments<3.0.0,>=2.13.0 in /usr/local/lib/python3.10/dist-packages (from rich>=10.11.0->typer<1.0.0,>=0.3.0->spacy) (2.16.1)\n",
            "Requirement already satisfied: wrapt in /usr/local/lib/python3.10/dist-packages (from smart-open<8.0.0,>=5.2.1->weasel<0.5.0,>=0.1.0->spacy) (1.16.0)\n",
            "Requirement already satisfied: mdurl~=0.1 in /usr/local/lib/python3.10/dist-packages (from markdown-it-py>=2.2.0->rich>=10.11.0->typer<1.0.0,>=0.3.0->spacy) (0.1.2)\n",
            "Downloading spacy-3.8.0-cp310-cp310-manylinux_2_17_x86_64.manylinux2014_x86_64.whl (29.0 MB)\n",
            "\u001b[2K   \u001b[90m━━━━━━━━━━━━━━━━━━━━━━━━━━━━━━━━━━━━━━━━\u001b[0m \u001b[32m29.0/29.0 MB\u001b[0m \u001b[31m26.1 MB/s\u001b[0m eta \u001b[36m0:00:00\u001b[0m\n",
            "\u001b[?25hInstalling collected packages: spacy\n",
            "  Attempting uninstall: spacy\n",
            "    Found existing installation: spacy 3.7.6\n",
            "    Uninstalling spacy-3.7.6:\n",
            "      Successfully uninstalled spacy-3.7.6\n",
            "\u001b[31mERROR: pip's dependency resolver does not currently take into account all the packages that are installed. This behaviour is the source of the following dependency conflicts.\n",
            "en-core-web-sm 3.7.1 requires spacy<3.8.0,>=3.7.2, but you have spacy 3.8.0 which is incompatible.\u001b[0m\u001b[31m\n",
            "\u001b[0mSuccessfully installed spacy-3.8.0\n",
            "Collecting spacy_transformers\n",
            "  Downloading spacy_transformers-1.3.5-cp310-cp310-manylinux_2_17_x86_64.manylinux2014_x86_64.whl.metadata (7.0 kB)\n",
            "Requirement already satisfied: spacy<4.1.0,>=3.5.0 in /usr/local/lib/python3.10/dist-packages (from spacy_transformers) (3.8.0)\n",
            "Collecting transformers<4.37.0,>=3.4.0 (from spacy_transformers)\n",
            "  Downloading transformers-4.36.2-py3-none-any.whl.metadata (126 kB)\n",
            "\u001b[2K     \u001b[90m━━━━━━━━━━━━━━━━━━━━━━━━━━━━━━━━━━━━━━━━\u001b[0m \u001b[32m126.8/126.8 kB\u001b[0m \u001b[31m2.7 MB/s\u001b[0m eta \u001b[36m0:00:00\u001b[0m\n",
            "\u001b[?25hRequirement already satisfied: torch>=1.8.0 in /usr/local/lib/python3.10/dist-packages (from spacy_transformers) (2.4.0+cu121)\n",
            "Requirement already satisfied: srsly<3.0.0,>=2.4.0 in /usr/local/lib/python3.10/dist-packages (from spacy_transformers) (2.4.8)\n",
            "Collecting spacy-alignments<1.0.0,>=0.7.2 (from spacy_transformers)\n",
            "  Downloading spacy_alignments-0.9.1-cp310-cp310-manylinux_2_17_x86_64.manylinux2014_x86_64.whl.metadata (2.7 kB)\n",
            "Requirement already satisfied: numpy>=1.19.0 in /usr/local/lib/python3.10/dist-packages (from spacy_transformers) (1.26.4)\n",
            "Requirement already satisfied: spacy-legacy<3.1.0,>=3.0.11 in /usr/local/lib/python3.10/dist-packages (from spacy<4.1.0,>=3.5.0->spacy_transformers) (3.0.12)\n",
            "Requirement already satisfied: spacy-loggers<2.0.0,>=1.0.0 in /usr/local/lib/python3.10/dist-packages (from spacy<4.1.0,>=3.5.0->spacy_transformers) (1.0.5)\n",
            "Requirement already satisfied: murmurhash<1.1.0,>=0.28.0 in /usr/local/lib/python3.10/dist-packages (from spacy<4.1.0,>=3.5.0->spacy_transformers) (1.0.10)\n",
            "Requirement already satisfied: cymem<2.1.0,>=2.0.2 in /usr/local/lib/python3.10/dist-packages (from spacy<4.1.0,>=3.5.0->spacy_transformers) (2.0.8)\n",
            "Requirement already satisfied: preshed<3.1.0,>=3.0.2 in /usr/local/lib/python3.10/dist-packages (from spacy<4.1.0,>=3.5.0->spacy_transformers) (3.0.9)\n",
            "Requirement already satisfied: thinc<8.3.0,>=8.2.2 in /usr/local/lib/python3.10/dist-packages (from spacy<4.1.0,>=3.5.0->spacy_transformers) (8.2.5)\n",
            "Requirement already satisfied: wasabi<1.2.0,>=0.9.1 in /usr/local/lib/python3.10/dist-packages (from spacy<4.1.0,>=3.5.0->spacy_transformers) (1.1.3)\n",
            "Requirement already satisfied: catalogue<2.1.0,>=2.0.6 in /usr/local/lib/python3.10/dist-packages (from spacy<4.1.0,>=3.5.0->spacy_transformers) (2.0.10)\n",
            "Requirement already satisfied: weasel<0.5.0,>=0.1.0 in /usr/local/lib/python3.10/dist-packages (from spacy<4.1.0,>=3.5.0->spacy_transformers) (0.4.1)\n",
            "Requirement already satisfied: typer<1.0.0,>=0.3.0 in /usr/local/lib/python3.10/dist-packages (from spacy<4.1.0,>=3.5.0->spacy_transformers) (0.12.5)\n",
            "Requirement already satisfied: tqdm<5.0.0,>=4.38.0 in /usr/local/lib/python3.10/dist-packages (from spacy<4.1.0,>=3.5.0->spacy_transformers) (4.66.5)\n",
            "Requirement already satisfied: requests<3.0.0,>=2.13.0 in /usr/local/lib/python3.10/dist-packages (from spacy<4.1.0,>=3.5.0->spacy_transformers) (2.32.3)\n",
            "Requirement already satisfied: pydantic!=1.8,!=1.8.1,<3.0.0,>=1.7.4 in /usr/local/lib/python3.10/dist-packages (from spacy<4.1.0,>=3.5.0->spacy_transformers) (2.9.1)\n",
            "Requirement already satisfied: jinja2 in /usr/local/lib/python3.10/dist-packages (from spacy<4.1.0,>=3.5.0->spacy_transformers) (3.1.4)\n",
            "Requirement already satisfied: setuptools in /usr/local/lib/python3.10/dist-packages (from spacy<4.1.0,>=3.5.0->spacy_transformers) (71.0.4)\n",
            "Requirement already satisfied: packaging>=20.0 in /usr/local/lib/python3.10/dist-packages (from spacy<4.1.0,>=3.5.0->spacy_transformers) (24.1)\n",
            "Requirement already satisfied: langcodes<4.0.0,>=3.2.0 in /usr/local/lib/python3.10/dist-packages (from spacy<4.1.0,>=3.5.0->spacy_transformers) (3.4.0)\n",
            "Requirement already satisfied: filelock in /usr/local/lib/python3.10/dist-packages (from torch>=1.8.0->spacy_transformers) (3.16.0)\n",
            "Requirement already satisfied: typing-extensions>=4.8.0 in /usr/local/lib/python3.10/dist-packages (from torch>=1.8.0->spacy_transformers) (4.12.2)\n",
            "Requirement already satisfied: sympy in /usr/local/lib/python3.10/dist-packages (from torch>=1.8.0->spacy_transformers) (1.13.2)\n",
            "Requirement already satisfied: networkx in /usr/local/lib/python3.10/dist-packages (from torch>=1.8.0->spacy_transformers) (3.3)\n",
            "Requirement already satisfied: fsspec in /usr/local/lib/python3.10/dist-packages (from torch>=1.8.0->spacy_transformers) (2024.6.1)\n",
            "Requirement already satisfied: huggingface-hub<1.0,>=0.19.3 in /usr/local/lib/python3.10/dist-packages (from transformers<4.37.0,>=3.4.0->spacy_transformers) (0.24.6)\n",
            "Requirement already satisfied: pyyaml>=5.1 in /usr/local/lib/python3.10/dist-packages (from transformers<4.37.0,>=3.4.0->spacy_transformers) (6.0.2)\n",
            "Requirement already satisfied: regex!=2019.12.17 in /usr/local/lib/python3.10/dist-packages (from transformers<4.37.0,>=3.4.0->spacy_transformers) (2024.5.15)\n",
            "Collecting tokenizers<0.19,>=0.14 (from transformers<4.37.0,>=3.4.0->spacy_transformers)\n",
            "  Downloading tokenizers-0.15.2-cp310-cp310-manylinux_2_17_x86_64.manylinux2014_x86_64.whl.metadata (6.7 kB)\n",
            "Requirement already satisfied: safetensors>=0.3.1 in /usr/local/lib/python3.10/dist-packages (from transformers<4.37.0,>=3.4.0->spacy_transformers) (0.4.5)\n",
            "Requirement already satisfied: language-data>=1.2 in /usr/local/lib/python3.10/dist-packages (from langcodes<4.0.0,>=3.2.0->spacy<4.1.0,>=3.5.0->spacy_transformers) (1.2.0)\n",
            "Requirement already satisfied: annotated-types>=0.6.0 in /usr/local/lib/python3.10/dist-packages (from pydantic!=1.8,!=1.8.1,<3.0.0,>=1.7.4->spacy<4.1.0,>=3.5.0->spacy_transformers) (0.7.0)\n",
            "Requirement already satisfied: pydantic-core==2.23.3 in /usr/local/lib/python3.10/dist-packages (from pydantic!=1.8,!=1.8.1,<3.0.0,>=1.7.4->spacy<4.1.0,>=3.5.0->spacy_transformers) (2.23.3)\n",
            "Requirement already satisfied: charset-normalizer<4,>=2 in /usr/local/lib/python3.10/dist-packages (from requests<3.0.0,>=2.13.0->spacy<4.1.0,>=3.5.0->spacy_transformers) (3.3.2)\n",
            "Requirement already satisfied: idna<4,>=2.5 in /usr/local/lib/python3.10/dist-packages (from requests<3.0.0,>=2.13.0->spacy<4.1.0,>=3.5.0->spacy_transformers) (3.8)\n",
            "Requirement already satisfied: urllib3<3,>=1.21.1 in /usr/local/lib/python3.10/dist-packages (from requests<3.0.0,>=2.13.0->spacy<4.1.0,>=3.5.0->spacy_transformers) (2.0.7)\n",
            "Requirement already satisfied: certifi>=2017.4.17 in /usr/local/lib/python3.10/dist-packages (from requests<3.0.0,>=2.13.0->spacy<4.1.0,>=3.5.0->spacy_transformers) (2024.8.30)\n",
            "Requirement already satisfied: blis<0.8.0,>=0.7.8 in /usr/local/lib/python3.10/dist-packages (from thinc<8.3.0,>=8.2.2->spacy<4.1.0,>=3.5.0->spacy_transformers) (0.7.11)\n",
            "Requirement already satisfied: confection<1.0.0,>=0.0.1 in /usr/local/lib/python3.10/dist-packages (from thinc<8.3.0,>=8.2.2->spacy<4.1.0,>=3.5.0->spacy_transformers) (0.1.5)\n",
            "Requirement already satisfied: click>=8.0.0 in /usr/local/lib/python3.10/dist-packages (from typer<1.0.0,>=0.3.0->spacy<4.1.0,>=3.5.0->spacy_transformers) (8.1.7)\n",
            "Requirement already satisfied: shellingham>=1.3.0 in /usr/local/lib/python3.10/dist-packages (from typer<1.0.0,>=0.3.0->spacy<4.1.0,>=3.5.0->spacy_transformers) (1.5.4)\n",
            "Requirement already satisfied: rich>=10.11.0 in /usr/local/lib/python3.10/dist-packages (from typer<1.0.0,>=0.3.0->spacy<4.1.0,>=3.5.0->spacy_transformers) (13.8.1)\n",
            "Requirement already satisfied: cloudpathlib<1.0.0,>=0.7.0 in /usr/local/lib/python3.10/dist-packages (from weasel<0.5.0,>=0.1.0->spacy<4.1.0,>=3.5.0->spacy_transformers) (0.19.0)\n",
            "Requirement already satisfied: smart-open<8.0.0,>=5.2.1 in /usr/local/lib/python3.10/dist-packages (from weasel<0.5.0,>=0.1.0->spacy<4.1.0,>=3.5.0->spacy_transformers) (7.0.4)\n",
            "Requirement already satisfied: MarkupSafe>=2.0 in /usr/local/lib/python3.10/dist-packages (from jinja2->spacy<4.1.0,>=3.5.0->spacy_transformers) (2.1.5)\n",
            "Requirement already satisfied: mpmath<1.4,>=1.1.0 in /usr/local/lib/python3.10/dist-packages (from sympy->torch>=1.8.0->spacy_transformers) (1.3.0)\n",
            "Requirement already satisfied: marisa-trie>=0.7.7 in /usr/local/lib/python3.10/dist-packages (from language-data>=1.2->langcodes<4.0.0,>=3.2.0->spacy<4.1.0,>=3.5.0->spacy_transformers) (1.2.0)\n",
            "Requirement already satisfied: markdown-it-py>=2.2.0 in /usr/local/lib/python3.10/dist-packages (from rich>=10.11.0->typer<1.0.0,>=0.3.0->spacy<4.1.0,>=3.5.0->spacy_transformers) (3.0.0)\n",
            "Requirement already satisfied: pygments<3.0.0,>=2.13.0 in /usr/local/lib/python3.10/dist-packages (from rich>=10.11.0->typer<1.0.0,>=0.3.0->spacy<4.1.0,>=3.5.0->spacy_transformers) (2.16.1)\n",
            "Requirement already satisfied: wrapt in /usr/local/lib/python3.10/dist-packages (from smart-open<8.0.0,>=5.2.1->weasel<0.5.0,>=0.1.0->spacy<4.1.0,>=3.5.0->spacy_transformers) (1.16.0)\n",
            "Requirement already satisfied: mdurl~=0.1 in /usr/local/lib/python3.10/dist-packages (from markdown-it-py>=2.2.0->rich>=10.11.0->typer<1.0.0,>=0.3.0->spacy<4.1.0,>=3.5.0->spacy_transformers) (0.1.2)\n",
            "Downloading spacy_transformers-1.3.5-cp310-cp310-manylinux_2_17_x86_64.manylinux2014_x86_64.whl (197 kB)\n",
            "\u001b[2K   \u001b[90m━━━━━━━━━━━━━━━━━━━━━━━━━━━━━━━━━━━━━━━━\u001b[0m \u001b[32m197.8/197.8 kB\u001b[0m \u001b[31m8.6 MB/s\u001b[0m eta \u001b[36m0:00:00\u001b[0m\n",
            "\u001b[?25hDownloading spacy_alignments-0.9.1-cp310-cp310-manylinux_2_17_x86_64.manylinux2014_x86_64.whl (313 kB)\n",
            "\u001b[2K   \u001b[90m━━━━━━━━━━━━━━━━━━━━━━━━━━━━━━━━━━━━━━━━\u001b[0m \u001b[32m314.0/314.0 kB\u001b[0m \u001b[31m14.0 MB/s\u001b[0m eta \u001b[36m0:00:00\u001b[0m\n",
            "\u001b[?25hDownloading transformers-4.36.2-py3-none-any.whl (8.2 MB)\n",
            "\u001b[2K   \u001b[90m━━━━━━━━━━━━━━━━━━━━━━━━━━━━━━━━━━━━━━━━\u001b[0m \u001b[32m8.2/8.2 MB\u001b[0m \u001b[31m34.8 MB/s\u001b[0m eta \u001b[36m0:00:00\u001b[0m\n",
            "\u001b[?25hDownloading tokenizers-0.15.2-cp310-cp310-manylinux_2_17_x86_64.manylinux2014_x86_64.whl (3.6 MB)\n",
            "\u001b[2K   \u001b[90m━━━━━━━━━━━━━━━━━━━━━━━━━━━━━━━━━━━━━━━━\u001b[0m \u001b[32m3.6/3.6 MB\u001b[0m \u001b[31m73.8 MB/s\u001b[0m eta \u001b[36m0:00:00\u001b[0m\n",
            "\u001b[?25hInstalling collected packages: spacy-alignments, tokenizers, transformers, spacy_transformers\n",
            "  Attempting uninstall: tokenizers\n",
            "    Found existing installation: tokenizers 0.19.1\n",
            "    Uninstalling tokenizers-0.19.1:\n",
            "      Successfully uninstalled tokenizers-0.19.1\n",
            "  Attempting uninstall: transformers\n",
            "    Found existing installation: transformers 4.44.2\n",
            "    Uninstalling transformers-4.44.2:\n",
            "      Successfully uninstalled transformers-4.44.2\n",
            "Successfully installed spacy-alignments-0.9.1 spacy_transformers-1.3.5 tokenizers-0.15.2 transformers-4.36.2\n"
          ]
        }
      ],
      "source": [
        "!pip install -U spacy\n",
        "!pip install spacy_transformers"
      ]
    },
    {
      "cell_type": "code",
      "source": [
        "# Import required libraries and install any necessary packages\n",
        "import spacy\n",
        "from spacy.tokens import DocBin\n",
        "from tqdm import tqdm\n",
        "import json\n",
        "import os\n",
        "\n",
        "# Check the installed version of spaCy\n",
        "print(spacy.__version__)\n",
        "\n",
        "# Check GPU information\n",
        "!nvidia-smi"
      ],
      "metadata": {
        "colab": {
          "base_uri": "https://localhost:8080/"
        },
        "id": "jAk90JSEFD9K",
        "outputId": "6f6ae8ce-1b85-470c-db37-2333481eea07"
      },
      "execution_count": null,
      "outputs": [
        {
          "output_type": "stream",
          "name": "stdout",
          "text": [
            "3.8.0\n",
            "Fri Sep 13 02:15:05 2024       \n",
            "+---------------------------------------------------------------------------------------+\n",
            "| NVIDIA-SMI 535.104.05             Driver Version: 535.104.05   CUDA Version: 12.2     |\n",
            "|-----------------------------------------+----------------------+----------------------+\n",
            "| GPU  Name                 Persistence-M | Bus-Id        Disp.A | Volatile Uncorr. ECC |\n",
            "| Fan  Temp   Perf          Pwr:Usage/Cap |         Memory-Usage | GPU-Util  Compute M. |\n",
            "|                                         |                      |               MIG M. |\n",
            "|=========================================+======================+======================|\n",
            "|   0  Tesla T4                       Off | 00000000:00:04.0 Off |                    0 |\n",
            "| N/A   38C    P8               9W /  70W |      3MiB / 15360MiB |      0%      Default |\n",
            "|                                         |                      |                  N/A |\n",
            "+-----------------------------------------+----------------------+----------------------+\n",
            "                                                                                         \n",
            "+---------------------------------------------------------------------------------------+\n",
            "| Processes:                                                                            |\n",
            "|  GPU   GI   CI        PID   Type   Process name                            GPU Memory |\n",
            "|        ID   ID                                                             Usage      |\n",
            "|=======================================================================================|\n",
            "|  No running processes found                                                           |\n",
            "+---------------------------------------------------------------------------------------+\n"
          ]
        }
      ]
    },
    {
      "cell_type": "code",
      "source": [
        "from google.colab import drive\n",
        "drive.mount('/content/drive')\n",
        "\n",
        "# Change the working directory to the project folder\n",
        "%cd \"/content/drive/MyDrive/Custom_Ner_For_Ingredients\""
      ],
      "metadata": {
        "colab": {
          "base_uri": "https://localhost:8080/"
        },
        "id": "8WZ-t9YGFG9U",
        "outputId": "a475318c-f77c-4531-f240-d510b3986763"
      },
      "execution_count": null,
      "outputs": [
        {
          "output_type": "stream",
          "name": "stdout",
          "text": [
            "Mounted at /content/drive\n",
            "/content/drive/MyDrive/Custom_Ner_For_Ingredients\n"
          ]
        }
      ]
    },
    {
      "cell_type": "code",
      "source": [
        "!pip install nervaluate"
      ],
      "metadata": {
        "colab": {
          "base_uri": "https://localhost:8080/"
        },
        "id": "lQZkmT4AG0eX",
        "outputId": "527bb84c-1853-4bb2-c00a-1d3155849f03"
      },
      "execution_count": null,
      "outputs": [
        {
          "output_type": "stream",
          "name": "stdout",
          "text": [
            "Collecting nervaluate\n",
            "  Downloading nervaluate-0.2.0-py3-none-any.whl.metadata (15 kB)\n",
            "Downloading nervaluate-0.2.0-py3-none-any.whl (13 kB)\n",
            "Installing collected packages: nervaluate\n",
            "Successfully installed nervaluate-0.2.0\n"
          ]
        }
      ]
    },
    {
      "cell_type": "code",
      "source": [
        "import pandas as pd\n",
        "import os\n",
        "import json\n",
        "import spacy\n",
        "from spacy.training import biluo_tags_to_offsets, offsets_to_biluo_tags\n",
        "from nervaluate import Evaluator\n",
        "\n",
        "\n",
        "NLP = spacy.load('en_core_web_sm')\n",
        "ENTITIES = [\"FOOD\", \"QUANTITY\", \"UNIT\", \"PROCESS\", \"PHYSICAL_QUALITY\", \"COLOR\",\n",
        "            \"TASTE\", \"PURPOSE\", \"PART\"]\n",
        "\n",
        "\n",
        "def prepare_data(taste_set, entities_format=\"spans\"):\n",
        "    \"\"\"\n",
        "    :param tasteset: TASTEset as pd.DataFrame or a path to the TASTEset\n",
        "    :param entities_format: the format of entities. If equal to 'bio', entities\n",
        "    will be of the following format: [[B-FOOD, I-FOOD, O, ...], [B-UNIT, ...]].\n",
        "    If equal to span, entities will be of the following format:\n",
        "    [[(0, 6, FOOD), (10, 15, PROCESS), ...], [(0, 2, UNIT), ...]]\n",
        "    :return: list of recipes and corresponding list of entities\n",
        "    \"\"\"\n",
        "\n",
        "    assert entities_format in [\"bio\", \"spans\"],\\\n",
        "        'You provided incorrect entities format!'\n",
        "    if isinstance(taste_set, pd.DataFrame):\n",
        "        df = taste_set\n",
        "    elif isinstance(taste_set, str) and os.path.exists(taste_set):\n",
        "        df = pd.read_csv(taste_set)\n",
        "    else:\n",
        "        raise ValueError('Incorret TASTEset format!')\n",
        "\n",
        "    all_recipes = df[\"ingredients\"].to_list()\n",
        "    all_entities = []\n",
        "\n",
        "    for idx in df.index:\n",
        "        ingredients_entities = json.loads(df.at[idx, \"ingredients_entities\"])\n",
        "        entities = []\n",
        "\n",
        "        for entity_dict in ingredients_entities:\n",
        "            entities.append((entity_dict[\"start\"], entity_dict[\"end\"],\n",
        "                             entity_dict[\"type\"]))\n",
        "\n",
        "        if entities_format == \"bio\":\n",
        "            tokenized_recipe, entities = span_to_bio(all_recipes[idx], entities)\n",
        "            all_recipes[idx] = tokenized_recipe\n",
        "\n",
        "        all_entities.append(entities)\n",
        "\n",
        "    return all_recipes, all_entities\n",
        "\n",
        "\n",
        "def bio_to_biluo(bio_entities):\n",
        "    \"\"\"\n",
        "    :param bio_entities: list of BIO entities, eg. [\"O\", \"B-FOOD\", \"I-FOOD\",\n",
        "    \"B-PROCESS\"]\n",
        "    :return: list of BILUO entities, eg. [\"O\", \"B-FOOD\", \"L-FOOD\", \"U-PROCESS\"]\n",
        "    \"\"\"\n",
        "    biluo_entities = []\n",
        "\n",
        "    for entity_idx in range(len(bio_entities)):\n",
        "        cur_entity = bio_entities[entity_idx]\n",
        "        next_entity = bio_entities[entity_idx + 1] if \\\n",
        "            entity_idx < len(bio_entities) - 1 else \"\"\n",
        "\n",
        "        if cur_entity.startswith(\"B-\"):\n",
        "            if next_entity.startswith(\"I-\"):\n",
        "                biluo_entities.append(cur_entity)\n",
        "            else:\n",
        "                biluo_entities.append(re.sub(\"B-\", \"U-\", cur_entity))\n",
        "        elif cur_entity.startswith(\"I-\"):\n",
        "            if next_entity.startswith(\"I-\"):\n",
        "                biluo_entities.append(cur_entity)\n",
        "            else:\n",
        "                biluo_entities.append(re.sub(\"I-\", \"L-\", cur_entity))\n",
        "        else:  # O\n",
        "            biluo_entities.append(cur_entity)\n",
        "\n",
        "    return biluo_entities\n",
        "\n",
        "\n",
        "def biluo_to_span(recipe, biluo_entities):\n",
        "    \"\"\"\n",
        "    :param biluo_entities: list of BILUO entities, eg. [\"O\", \"B-FOOD\", \"L-FOOD\",\n",
        "    \"U-PROCESS\"]\n",
        "    :return: list of span entities, eg. [(span_start, span_end, \"FOOD\"),\n",
        "    (span_start, span_end, \"PROCESS\")]\n",
        "    \"\"\"\n",
        "    doc = NLP(recipe)\n",
        "    spans = biluo_tags_to_offsets(doc, biluo_entities)\n",
        "    return spans\n",
        "\n",
        "\n",
        "def bio_to_span(recipe, bio_entities):\n",
        "    \"\"\"\n",
        "    :param bio_entities: list of BIO entities, eg. [\"O\", \"B-FOOD\", \"I-FOOD\",\n",
        "    \"B-PROCESS\"]\n",
        "    :return: list of span entities, eg. [(span_start, span_end, \"FOOD\"),\n",
        "    (span_start, span_end, \"PROCESS\")]\n",
        "    \"\"\"\n",
        "    biluo_entities = bio_to_biluo(bio_entities)\n",
        "    spans = biluo_to_span(recipe, biluo_entities)\n",
        "    return spans\n",
        "\n",
        "\n",
        "def span_to_biluo(recipe, span_entities):\n",
        "    \"\"\"\n",
        "    :param span_entities: list of span entities, eg. [(span_start, span_end,\n",
        "    \"FOOD\"), (span_start, span_end, \"PROCESS\")]\n",
        "    :return: list of BILUO entities, eg. [\"O\", \"B-FOOD\", \"L-FOOD\",\n",
        "    \"U-PROCESS\"] along with tokenized recipe\n",
        "    \"\"\"\n",
        "    doc = NLP(recipe.replace(\"\\n\", \" \"))\n",
        "    tokenized_recipe = [token.text for token in doc]\n",
        "    spans = offsets_to_biluo_tags(doc, span_entities)\n",
        "    return tokenized_recipe, spans\n",
        "\n",
        "\n",
        "def biluo_to_bio(biluo_entities):\n",
        "    \"\"\"\n",
        "    :param biluo_entities: list of BILUO entities, eg. [\"O\", \"B-FOOD\", \"L-FOOD\",\n",
        "    \"U-PROCESS\"]\n",
        "    :return: list of BIO entities, eg. [\"O\", \"B-FOOD\", \"I-FOOD\", \"B-PROCESS\"]\n",
        "    \"\"\"\n",
        "    bio_entities = [entity.replace(\"L-\", \"I-\").replace(\"U-\", \"B-\")\n",
        "                    for entity in biluo_entities]\n",
        "    return bio_entities\n",
        "\n",
        "\n",
        "def span_to_bio(recipe, span_entities):\n",
        "    \"\"\"\n",
        "    :param span_entities: list of span entities, eg. [(span_start, span_end,\n",
        "    \"FOOD\"), (span_start, span_end, \"PROCESS\")]\n",
        "    :return: list of BIO entities, eg. [\"O\", \"B-FOOD\", \"I-FOOD\", \"B-PROCESS\"]\n",
        "    \"\"\"\n",
        "    tokenized_recipe, biluo_entities = span_to_biluo(recipe, span_entities)\n",
        "    bio_entities = biluo_to_bio(biluo_entities)\n",
        "    return tokenized_recipe, bio_entities\n",
        "\n",
        "\n",
        "def spans_to_prodigy_spans(list_of_spans):\n",
        "    \"\"\"\n",
        "    Convert to spans format required by nerevaluate.\n",
        "    \"\"\"\n",
        "    prodigy_list_of_spans = []\n",
        "    for spans in list_of_spans:\n",
        "        prodigy_spans = []\n",
        "        for start, end, entity in spans:\n",
        "            prodigy_spans.append({\"label\": entity, \"start\": start, \"end\": end})\n",
        "        prodigy_list_of_spans.append(prodigy_spans)\n",
        "\n",
        "    return prodigy_list_of_spans\n",
        "\n",
        "\n",
        "def evaluate_predictions(true_entities, pred_entities, entities_format):\n",
        "    \"\"\"\n",
        "    :param true_entities: list of true entities\n",
        "    :param pred_entities: list of predicted entities\n",
        "    :param format: format of provided entities. If equal to 'bio', entities\n",
        "    are expected of the following format: [[B-FOOD, I-FOOD, O, ...],\n",
        "    [B-UNIT, ...]]. If equal to span, entities are expected of the following\n",
        "    format: [[(0, 6, FOOD), (10, 15, PROCESS), ...], [(0, 2, UNIT), ...]]\n",
        "    :return: metrics for the predicted entities\n",
        "    \"\"\"\n",
        "\n",
        "    assert entities_format in [\"bio\", \"spans\"],\\\n",
        "        'You provided incorrect entities format!'\n",
        "\n",
        "    if entities_format == \"spans\":\n",
        "        true_entities = spans_to_prodigy_spans(true_entities)\n",
        "        pred_entities = spans_to_prodigy_spans(pred_entities)\n",
        "\n",
        "        evaluator = Evaluator(true_entities, pred_entities, tags=ENTITIES)\n",
        "    else:\n",
        "        evaluator = Evaluator(true_entities, pred_entities, tags=ENTITIES,\n",
        "                              loader=\"list\")\n",
        "\n",
        "    results, results_per_tag = evaluator.evaluate()\n",
        "\n",
        "    results = results[\"strict\"]\n",
        "\n",
        "    for entity in results_per_tag.keys():\n",
        "        results_per_tag[entity] = results_per_tag[entity][\"strict\"]\n",
        "\n",
        "    results_per_tag[\"all\"] = results\n",
        "    return results_per_tag"
      ],
      "metadata": {
        "colab": {
          "base_uri": "https://localhost:8080/"
        },
        "id": "n6EFxhkYF9Fb",
        "outputId": "c61c0a87-c2d5-4423-8a3d-433303527bb9"
      },
      "execution_count": null,
      "outputs": [
        {
          "output_type": "stream",
          "name": "stderr",
          "text": [
            "/usr/local/lib/python3.10/dist-packages/spacy/util.py:910: UserWarning: [W095] Model 'en_core_web_sm' (3.7.1) was trained with spaCy v3.7.2 and may not be 100% compatible with the current version (3.8.0). If you see errors or degraded performance, download a newer compatible model or retrain your custom model with the current spaCy version. For more details and available updates, run: python -m spacy validate\n",
            "  warnings.warn(warn_msg)\n",
            "/usr/local/lib/python3.10/dist-packages/transformers/utils/generic.py:441: FutureWarning: `torch.utils._pytree._register_pytree_node` is deprecated. Please use `torch.utils._pytree.register_pytree_node` instead.\n",
            "  _torch_pytree._register_pytree_node(\n",
            "/usr/local/lib/python3.10/dist-packages/transformers/utils/generic.py:309: FutureWarning: `torch.utils._pytree._register_pytree_node` is deprecated. Please use `torch.utils._pytree.register_pytree_node` instead.\n",
            "  _torch_pytree._register_pytree_node(\n"
          ]
        }
      ]
    },
    {
      "cell_type": "code",
      "source": [
        "import pandas as pd\n",
        "\n",
        "df = pd.read_csv('TASTEset.csv',index_col=0)\n",
        "df.head()"
      ],
      "metadata": {
        "colab": {
          "base_uri": "https://localhost:8080/",
          "height": 428
        },
        "id": "lJPIe3XPFTHi",
        "outputId": "9a7d882a-5da8-4800-e72e-e2725f5a06fe"
      },
      "execution_count": null,
      "outputs": [
        {
          "output_type": "execute_result",
          "data": {
            "text/plain": [
              "                                                                                 ingredients_entities\n",
              "ingredients                                                                                          \n",
              "5 ounces rum\\n4 ounces triple sec\\n3 ounces Tia...  [{\"start\": 0, \"end\": 1, \"type\": \"QUANTITY\", \"e...\n",
              "2 tubes cinnamon roll, refrigerated, with icing...  [{\"start\": 0, \"end\": 1, \"type\": \"QUANTITY\", \"e...\n",
              "4 ripe coconuts\\n1 cup evaporated milk\\n1 cup g...  [{\"start\": 0, \"end\": 1, \"type\": \"QUANTITY\", \"e...\n",
              "1 sheet graham cracker (broken in half)\\n2 piec...  [{\"start\": 0, \"end\": 1, \"type\": \"QUANTITY\", \"e...\n",
              "1 (8 ounce) package crescent rolls\\n8 slices de...  [{\"start\": 0, \"end\": 1, \"type\": \"QUANTITY\", \"e..."
            ],
            "text/html": [
              "\n",
              "  <div id=\"df-49693cba-ea72-4a24-b42d-413b6ccce13e\" class=\"colab-df-container\">\n",
              "    <div>\n",
              "<style scoped>\n",
              "    .dataframe tbody tr th:only-of-type {\n",
              "        vertical-align: middle;\n",
              "    }\n",
              "\n",
              "    .dataframe tbody tr th {\n",
              "        vertical-align: top;\n",
              "    }\n",
              "\n",
              "    .dataframe thead th {\n",
              "        text-align: right;\n",
              "    }\n",
              "</style>\n",
              "<table border=\"1\" class=\"dataframe\">\n",
              "  <thead>\n",
              "    <tr style=\"text-align: right;\">\n",
              "      <th></th>\n",
              "      <th>ingredients_entities</th>\n",
              "    </tr>\n",
              "    <tr>\n",
              "      <th>ingredients</th>\n",
              "      <th></th>\n",
              "    </tr>\n",
              "  </thead>\n",
              "  <tbody>\n",
              "    <tr>\n",
              "      <th>5 ounces rum\\n4 ounces triple sec\\n3 ounces Tia Maria\\n20 ounces orange juice\\n</th>\n",
              "      <td>[{\"start\": 0, \"end\": 1, \"type\": \"QUANTITY\", \"e...</td>\n",
              "    </tr>\n",
              "    <tr>\n",
              "      <th>2 tubes cinnamon roll, refrigerated, with icing\\n4 tablespoons butter, melted\\n6 eggs\\n½ cup milk\\n2 teaspoons cinnamon\\n2 teaspoons vanilla\\n1 cup maple syrup\\n</th>\n",
              "      <td>[{\"start\": 0, \"end\": 1, \"type\": \"QUANTITY\", \"e...</td>\n",
              "    </tr>\n",
              "    <tr>\n",
              "      <th>4 ripe coconuts\\n1 cup evaporated milk\\n1 cup gin\\n3 tablespoons sugar (optional)\\n1 teaspoon ground cinnamon\\n1⁄2 teaspoon freshly grated nutmeg\\n</th>\n",
              "      <td>[{\"start\": 0, \"end\": 1, \"type\": \"QUANTITY\", \"e...</td>\n",
              "    </tr>\n",
              "    <tr>\n",
              "      <th>1 sheet graham cracker (broken in half)\\n2 pieces milk chocolate candy bars\\n1 marshmallows\\n6 -8 fresh blueberries\\n2 thick strawberry slices\\n</th>\n",
              "      <td>[{\"start\": 0, \"end\": 1, \"type\": \"QUANTITY\", \"e...</td>\n",
              "    </tr>\n",
              "    <tr>\n",
              "      <th>1 (8 ounce) package crescent rolls\\n8 slices deli ham\\n4 teaspoons prepared mustard\\n1 cup shredded swiss cheese or 1 cup cheddar cheese\\n2 tablespoons sesame seeds (optional)\\n</th>\n",
              "      <td>[{\"start\": 0, \"end\": 1, \"type\": \"QUANTITY\", \"e...</td>\n",
              "    </tr>\n",
              "  </tbody>\n",
              "</table>\n",
              "</div>\n",
              "    <div class=\"colab-df-buttons\">\n",
              "\n",
              "  <div class=\"colab-df-container\">\n",
              "    <button class=\"colab-df-convert\" onclick=\"convertToInteractive('df-49693cba-ea72-4a24-b42d-413b6ccce13e')\"\n",
              "            title=\"Convert this dataframe to an interactive table.\"\n",
              "            style=\"display:none;\">\n",
              "\n",
              "  <svg xmlns=\"http://www.w3.org/2000/svg\" height=\"24px\" viewBox=\"0 -960 960 960\">\n",
              "    <path d=\"M120-120v-720h720v720H120Zm60-500h600v-160H180v160Zm220 220h160v-160H400v160Zm0 220h160v-160H400v160ZM180-400h160v-160H180v160Zm440 0h160v-160H620v160ZM180-180h160v-160H180v160Zm440 0h160v-160H620v160Z\"/>\n",
              "  </svg>\n",
              "    </button>\n",
              "\n",
              "  <style>\n",
              "    .colab-df-container {\n",
              "      display:flex;\n",
              "      gap: 12px;\n",
              "    }\n",
              "\n",
              "    .colab-df-convert {\n",
              "      background-color: #E8F0FE;\n",
              "      border: none;\n",
              "      border-radius: 50%;\n",
              "      cursor: pointer;\n",
              "      display: none;\n",
              "      fill: #1967D2;\n",
              "      height: 32px;\n",
              "      padding: 0 0 0 0;\n",
              "      width: 32px;\n",
              "    }\n",
              "\n",
              "    .colab-df-convert:hover {\n",
              "      background-color: #E2EBFA;\n",
              "      box-shadow: 0px 1px 2px rgba(60, 64, 67, 0.3), 0px 1px 3px 1px rgba(60, 64, 67, 0.15);\n",
              "      fill: #174EA6;\n",
              "    }\n",
              "\n",
              "    .colab-df-buttons div {\n",
              "      margin-bottom: 4px;\n",
              "    }\n",
              "\n",
              "    [theme=dark] .colab-df-convert {\n",
              "      background-color: #3B4455;\n",
              "      fill: #D2E3FC;\n",
              "    }\n",
              "\n",
              "    [theme=dark] .colab-df-convert:hover {\n",
              "      background-color: #434B5C;\n",
              "      box-shadow: 0px 1px 3px 1px rgba(0, 0, 0, 0.15);\n",
              "      filter: drop-shadow(0px 1px 2px rgba(0, 0, 0, 0.3));\n",
              "      fill: #FFFFFF;\n",
              "    }\n",
              "  </style>\n",
              "\n",
              "    <script>\n",
              "      const buttonEl =\n",
              "        document.querySelector('#df-49693cba-ea72-4a24-b42d-413b6ccce13e button.colab-df-convert');\n",
              "      buttonEl.style.display =\n",
              "        google.colab.kernel.accessAllowed ? 'block' : 'none';\n",
              "\n",
              "      async function convertToInteractive(key) {\n",
              "        const element = document.querySelector('#df-49693cba-ea72-4a24-b42d-413b6ccce13e');\n",
              "        const dataTable =\n",
              "          await google.colab.kernel.invokeFunction('convertToInteractive',\n",
              "                                                    [key], {});\n",
              "        if (!dataTable) return;\n",
              "\n",
              "        const docLinkHtml = 'Like what you see? Visit the ' +\n",
              "          '<a target=\"_blank\" href=https://colab.research.google.com/notebooks/data_table.ipynb>data table notebook</a>'\n",
              "          + ' to learn more about interactive tables.';\n",
              "        element.innerHTML = '';\n",
              "        dataTable['output_type'] = 'display_data';\n",
              "        await google.colab.output.renderOutput(dataTable, element);\n",
              "        const docLink = document.createElement('div');\n",
              "        docLink.innerHTML = docLinkHtml;\n",
              "        element.appendChild(docLink);\n",
              "      }\n",
              "    </script>\n",
              "  </div>\n",
              "\n",
              "\n",
              "<div id=\"df-f4d0f135-913e-4fc9-8a0c-816a3ed14f54\">\n",
              "  <button class=\"colab-df-quickchart\" onclick=\"quickchart('df-f4d0f135-913e-4fc9-8a0c-816a3ed14f54')\"\n",
              "            title=\"Suggest charts\"\n",
              "            style=\"display:none;\">\n",
              "\n",
              "<svg xmlns=\"http://www.w3.org/2000/svg\" height=\"24px\"viewBox=\"0 0 24 24\"\n",
              "     width=\"24px\">\n",
              "    <g>\n",
              "        <path d=\"M19 3H5c-1.1 0-2 .9-2 2v14c0 1.1.9 2 2 2h14c1.1 0 2-.9 2-2V5c0-1.1-.9-2-2-2zM9 17H7v-7h2v7zm4 0h-2V7h2v10zm4 0h-2v-4h2v4z\"/>\n",
              "    </g>\n",
              "</svg>\n",
              "  </button>\n",
              "\n",
              "<style>\n",
              "  .colab-df-quickchart {\n",
              "      --bg-color: #E8F0FE;\n",
              "      --fill-color: #1967D2;\n",
              "      --hover-bg-color: #E2EBFA;\n",
              "      --hover-fill-color: #174EA6;\n",
              "      --disabled-fill-color: #AAA;\n",
              "      --disabled-bg-color: #DDD;\n",
              "  }\n",
              "\n",
              "  [theme=dark] .colab-df-quickchart {\n",
              "      --bg-color: #3B4455;\n",
              "      --fill-color: #D2E3FC;\n",
              "      --hover-bg-color: #434B5C;\n",
              "      --hover-fill-color: #FFFFFF;\n",
              "      --disabled-bg-color: #3B4455;\n",
              "      --disabled-fill-color: #666;\n",
              "  }\n",
              "\n",
              "  .colab-df-quickchart {\n",
              "    background-color: var(--bg-color);\n",
              "    border: none;\n",
              "    border-radius: 50%;\n",
              "    cursor: pointer;\n",
              "    display: none;\n",
              "    fill: var(--fill-color);\n",
              "    height: 32px;\n",
              "    padding: 0;\n",
              "    width: 32px;\n",
              "  }\n",
              "\n",
              "  .colab-df-quickchart:hover {\n",
              "    background-color: var(--hover-bg-color);\n",
              "    box-shadow: 0 1px 2px rgba(60, 64, 67, 0.3), 0 1px 3px 1px rgba(60, 64, 67, 0.15);\n",
              "    fill: var(--button-hover-fill-color);\n",
              "  }\n",
              "\n",
              "  .colab-df-quickchart-complete:disabled,\n",
              "  .colab-df-quickchart-complete:disabled:hover {\n",
              "    background-color: var(--disabled-bg-color);\n",
              "    fill: var(--disabled-fill-color);\n",
              "    box-shadow: none;\n",
              "  }\n",
              "\n",
              "  .colab-df-spinner {\n",
              "    border: 2px solid var(--fill-color);\n",
              "    border-color: transparent;\n",
              "    border-bottom-color: var(--fill-color);\n",
              "    animation:\n",
              "      spin 1s steps(1) infinite;\n",
              "  }\n",
              "\n",
              "  @keyframes spin {\n",
              "    0% {\n",
              "      border-color: transparent;\n",
              "      border-bottom-color: var(--fill-color);\n",
              "      border-left-color: var(--fill-color);\n",
              "    }\n",
              "    20% {\n",
              "      border-color: transparent;\n",
              "      border-left-color: var(--fill-color);\n",
              "      border-top-color: var(--fill-color);\n",
              "    }\n",
              "    30% {\n",
              "      border-color: transparent;\n",
              "      border-left-color: var(--fill-color);\n",
              "      border-top-color: var(--fill-color);\n",
              "      border-right-color: var(--fill-color);\n",
              "    }\n",
              "    40% {\n",
              "      border-color: transparent;\n",
              "      border-right-color: var(--fill-color);\n",
              "      border-top-color: var(--fill-color);\n",
              "    }\n",
              "    60% {\n",
              "      border-color: transparent;\n",
              "      border-right-color: var(--fill-color);\n",
              "    }\n",
              "    80% {\n",
              "      border-color: transparent;\n",
              "      border-right-color: var(--fill-color);\n",
              "      border-bottom-color: var(--fill-color);\n",
              "    }\n",
              "    90% {\n",
              "      border-color: transparent;\n",
              "      border-bottom-color: var(--fill-color);\n",
              "    }\n",
              "  }\n",
              "</style>\n",
              "\n",
              "  <script>\n",
              "    async function quickchart(key) {\n",
              "      const quickchartButtonEl =\n",
              "        document.querySelector('#' + key + ' button');\n",
              "      quickchartButtonEl.disabled = true;  // To prevent multiple clicks.\n",
              "      quickchartButtonEl.classList.add('colab-df-spinner');\n",
              "      try {\n",
              "        const charts = await google.colab.kernel.invokeFunction(\n",
              "            'suggestCharts', [key], {});\n",
              "      } catch (error) {\n",
              "        console.error('Error during call to suggestCharts:', error);\n",
              "      }\n",
              "      quickchartButtonEl.classList.remove('colab-df-spinner');\n",
              "      quickchartButtonEl.classList.add('colab-df-quickchart-complete');\n",
              "    }\n",
              "    (() => {\n",
              "      let quickchartButtonEl =\n",
              "        document.querySelector('#df-f4d0f135-913e-4fc9-8a0c-816a3ed14f54 button');\n",
              "      quickchartButtonEl.style.display =\n",
              "        google.colab.kernel.accessAllowed ? 'block' : 'none';\n",
              "    })();\n",
              "  </script>\n",
              "</div>\n",
              "\n",
              "    </div>\n",
              "  </div>\n"
            ],
            "application/vnd.google.colaboratory.intrinsic+json": {
              "type": "dataframe",
              "variable_name": "df",
              "summary": "{\n  \"name\": \"df\",\n  \"rows\": 700,\n  \"fields\": [\n    {\n      \"column\": \"ingredients\",\n      \"properties\": {\n        \"dtype\": \"string\",\n        \"num_unique_values\": 700,\n        \"samples\": [\n          \"24 cupcakes (baked from your favorite mix, any flavor)\\n1 (16 ounce) can milk chocolate frosting\\n72 oval shortbread cookies (like 1 box of Keebler Sandies Right bites shortbread)\\n1 (11 ounce) bag candy corn\\n1 (2/3 ounce) package decorator's black icing (store bought)\\n1 (2/3 ounce) package decorator's white icing (store bought)\\n1 (5 ounce) box of red fruit leather, like Fruit by the Foot (you won't use all of it)\\n\",\n          \"15 mint leaves\\n1 teaspoon raw sugar\\n1 ounce fresh lime juice\\n1\\u20442 ounce simple syrup\\nice\\n4 4 ounces club soda or 4 ounces sparkling water\\n\",\n          \"10 -12 chicken thighs\\n1 lb Velveeta cheese\\n2 cans cream of chicken soup\\n1 (4 ounce) can green chilies\\n1 bag plain Doritos\\n\"\n        ],\n        \"semantic_type\": \"\",\n        \"description\": \"\"\n      }\n    },\n    {\n      \"column\": \"ingredients_entities\",\n      \"properties\": {\n        \"dtype\": \"string\",\n        \"num_unique_values\": 700,\n        \"samples\": [\n          \"[{\\\"start\\\": 0, \\\"end\\\": 2, \\\"type\\\": \\\"QUANTITY\\\", \\\"entity\\\": \\\"24\\\"},{\\\"start\\\": 3, \\\"end\\\": 11, \\\"type\\\": \\\"FOOD\\\", \\\"entity\\\": \\\"cupcakes\\\"},{\\\"start\\\": 13, \\\"end\\\": 53, \\\"type\\\": \\\"PHYSICAL_QUALITY\\\", \\\"entity\\\": \\\"baked from your favorite mix, any flavor\\\"},{\\\"start\\\": 55, \\\"end\\\": 56, \\\"type\\\": \\\"QUANTITY\\\", \\\"entity\\\": \\\"1\\\"},{\\\"start\\\": 58, \\\"end\\\": 60, \\\"type\\\": \\\"QUANTITY\\\", \\\"entity\\\": \\\"16\\\"},{\\\"start\\\": 61, \\\"end\\\": 66, \\\"type\\\": \\\"UNIT\\\", \\\"entity\\\": \\\"ounce\\\"},{\\\"start\\\": 68, \\\"end\\\": 71, \\\"type\\\": \\\"UNIT\\\", \\\"entity\\\": \\\"can\\\"},{\\\"start\\\": 72, \\\"end\\\": 95, \\\"type\\\": \\\"FOOD\\\", \\\"entity\\\": \\\"milk chocolate frosting\\\"},{\\\"start\\\": 96, \\\"end\\\": 98, \\\"type\\\": \\\"QUANTITY\\\", \\\"entity\\\": \\\"72\\\"},{\\\"start\\\": 99, \\\"end\\\": 103, \\\"type\\\": \\\"PHYSICAL_QUALITY\\\", \\\"entity\\\": \\\"oval\\\"},{\\\"start\\\": 104, \\\"end\\\": 122, \\\"type\\\": \\\"FOOD\\\", \\\"entity\\\": \\\"shortbread cookies\\\"},{\\\"start\\\": 129, \\\"end\\\": 130, \\\"type\\\": \\\"QUANTITY\\\", \\\"entity\\\": \\\"1\\\"},{\\\"start\\\": 131, \\\"end\\\": 134, \\\"type\\\": \\\"UNIT\\\", \\\"entity\\\": \\\"box\\\"},{\\\"start\\\": 178, \\\"end\\\": 179, \\\"type\\\": \\\"QUANTITY\\\", \\\"entity\\\": \\\"1\\\"},{\\\"start\\\": 181, \\\"end\\\": 183, \\\"type\\\": \\\"QUANTITY\\\", \\\"entity\\\": \\\"11\\\"},{\\\"start\\\": 184, \\\"end\\\": 189, \\\"type\\\": \\\"UNIT\\\", \\\"entity\\\": \\\"ounce\\\"},{\\\"start\\\": 191, \\\"end\\\": 194, \\\"type\\\": \\\"UNIT\\\", \\\"entity\\\": \\\"bag\\\"},{\\\"start\\\": 195, \\\"end\\\": 205, \\\"type\\\": \\\"FOOD\\\", \\\"entity\\\": \\\"candy corn\\\"},{\\\"start\\\": 206, \\\"end\\\": 207, \\\"type\\\": \\\"QUANTITY\\\", \\\"entity\\\": \\\"1\\\"},{\\\"start\\\": 209, \\\"end\\\": 212, \\\"type\\\": \\\"QUANTITY\\\", \\\"entity\\\": \\\"2/3\\\"},{\\\"start\\\": 213, \\\"end\\\": 218, \\\"type\\\": \\\"UNIT\\\", \\\"entity\\\": \\\"ounce\\\"},{\\\"start\\\": 220, \\\"end\\\": 227, \\\"type\\\": \\\"UNIT\\\", \\\"entity\\\": \\\"package\\\"},{\\\"start\\\": 228, \\\"end\\\": 239, \\\"type\\\": \\\"FOOD\\\", \\\"entity\\\": \\\"decorator's\\\"},{\\\"start\\\": 240, \\\"end\\\": 245, \\\"type\\\": \\\"COLOR\\\", \\\"entity\\\": \\\"black\\\"},{\\\"start\\\": 246, \\\"end\\\": 251, \\\"type\\\": \\\"FOOD\\\", \\\"entity\\\": \\\"icing\\\"},{\\\"start\\\": 267, \\\"end\\\": 268, \\\"type\\\": \\\"QUANTITY\\\", \\\"entity\\\": \\\"1\\\"},{\\\"start\\\": 270, \\\"end\\\": 273, \\\"type\\\": \\\"QUANTITY\\\", \\\"entity\\\": \\\"2/3\\\"},{\\\"start\\\": 274, \\\"end\\\": 279, \\\"type\\\": \\\"UNIT\\\", \\\"entity\\\": \\\"ounce\\\"},{\\\"start\\\": 281, \\\"end\\\": 288, \\\"type\\\": \\\"UNIT\\\", \\\"entity\\\": \\\"package\\\"},{\\\"start\\\": 289, \\\"end\\\": 312, \\\"type\\\": \\\"FOOD\\\", \\\"entity\\\": \\\"decorator's white icing\\\"},{\\\"start\\\": 328, \\\"end\\\": 329, \\\"type\\\": \\\"QUANTITY\\\", \\\"entity\\\": \\\"1\\\"},{\\\"start\\\": 331, \\\"end\\\": 332, \\\"type\\\": \\\"QUANTITY\\\", \\\"entity\\\": \\\"5\\\"},{\\\"start\\\": 333, \\\"end\\\": 338, \\\"type\\\": \\\"UNIT\\\", \\\"entity\\\": \\\"ounce\\\"},{\\\"start\\\": 340, \\\"end\\\": 343, \\\"type\\\": \\\"UNIT\\\", \\\"entity\\\": \\\"box\\\"},{\\\"start\\\": 347, \\\"end\\\": 364, \\\"type\\\": \\\"FOOD\\\", \\\"entity\\\": \\\"red fruit leather\\\"}]\",\n          \"[{\\\"start\\\": 0, \\\"end\\\": 2, \\\"type\\\": \\\"QUANTITY\\\", \\\"entity\\\": \\\"15\\\"},{\\\"start\\\": 3, \\\"end\\\": 7, \\\"type\\\": \\\"FOOD\\\", \\\"entity\\\": \\\"mint\\\"},{\\\"start\\\": 8, \\\"end\\\": 14, \\\"type\\\": \\\"UNIT\\\", \\\"entity\\\": \\\"leaves\\\"},{\\\"start\\\": 15, \\\"end\\\": 16, \\\"type\\\": \\\"QUANTITY\\\", \\\"entity\\\": \\\"1\\\"},{\\\"start\\\": 17, \\\"end\\\": 25, \\\"type\\\": \\\"UNIT\\\", \\\"entity\\\": \\\"teaspoon\\\"},{\\\"start\\\": 26, \\\"end\\\": 35, \\\"type\\\": \\\"FOOD\\\", \\\"entity\\\": \\\"raw sugar\\\"},{\\\"start\\\": 36, \\\"end\\\": 37, \\\"type\\\": \\\"QUANTITY\\\", \\\"entity\\\": \\\"1\\\"},{\\\"start\\\": 38, \\\"end\\\": 43, \\\"type\\\": \\\"UNIT\\\", \\\"entity\\\": \\\"ounce\\\"},{\\\"start\\\": 44, \\\"end\\\": 49, \\\"type\\\": \\\"PHYSICAL_QUALITY\\\", \\\"entity\\\": \\\"fresh\\\"},{\\\"start\\\": 50, \\\"end\\\": 60, \\\"type\\\": \\\"FOOD\\\", \\\"entity\\\": \\\"lime juice\\\"},{\\\"start\\\": 61, \\\"end\\\": 64, \\\"type\\\": \\\"QUANTITY\\\", \\\"entity\\\": \\\"1\\u20442\\\"},{\\\"start\\\": 65, \\\"end\\\": 70, \\\"type\\\": \\\"UNIT\\\", \\\"entity\\\": \\\"ounce\\\"},{\\\"start\\\": 71, \\\"end\\\": 83, \\\"type\\\": \\\"FOOD\\\", \\\"entity\\\": \\\"simple syrup\\\"},{\\\"start\\\": 88, \\\"end\\\": 91, \\\"type\\\": \\\"QUANTITY\\\", \\\"entity\\\": \\\"4 4\\\"},{\\\"start\\\": 92, \\\"end\\\": 98, \\\"type\\\": \\\"UNIT\\\", \\\"entity\\\": \\\"ounces\\\"},{\\\"start\\\": 99, \\\"end\\\": 108, \\\"type\\\": \\\"FOOD\\\", \\\"entity\\\": \\\"club soda\\\"},{\\\"start\\\": 112, \\\"end\\\": 113, \\\"type\\\": \\\"QUANTITY\\\", \\\"entity\\\": \\\"4\\\"},{\\\"start\\\": 114, \\\"end\\\": 120, \\\"type\\\": \\\"UNIT\\\", \\\"entity\\\": \\\"ounces\\\"},{\\\"start\\\": 121, \\\"end\\\": 130, \\\"type\\\": \\\"PHYSICAL_QUALITY\\\", \\\"entity\\\": \\\"sparkling\\\"},{\\\"start\\\": 131, \\\"end\\\": 136, \\\"type\\\": \\\"FOOD\\\", \\\"entity\\\": \\\"water\\\"}]\",\n          \"[{\\\"start\\\": 0, \\\"end\\\": 6, \\\"type\\\": \\\"QUANTITY\\\", \\\"entity\\\": \\\"10 -12\\\"},{\\\"start\\\": 7, \\\"end\\\": 14, \\\"type\\\": \\\"FOOD\\\", \\\"entity\\\": \\\"chicken\\\"},{\\\"start\\\": 15, \\\"end\\\": 21, \\\"type\\\": \\\"PART\\\", \\\"entity\\\": \\\"thighs\\\"},{\\\"start\\\": 22, \\\"end\\\": 23, \\\"type\\\": \\\"QUANTITY\\\", \\\"entity\\\": \\\"1\\\"},{\\\"start\\\": 24, \\\"end\\\": 26, \\\"type\\\": \\\"UNIT\\\", \\\"entity\\\": \\\"lb\\\"},{\\\"start\\\": 36, \\\"end\\\": 42, \\\"type\\\": \\\"FOOD\\\", \\\"entity\\\": \\\"cheese\\\"},{\\\"start\\\": 43, \\\"end\\\": 44, \\\"type\\\": \\\"QUANTITY\\\", \\\"entity\\\": \\\"2\\\"},{\\\"start\\\": 45, \\\"end\\\": 49, \\\"type\\\": \\\"UNIT\\\", \\\"entity\\\": \\\"cans\\\"},{\\\"start\\\": 50, \\\"end\\\": 71, \\\"type\\\": \\\"FOOD\\\", \\\"entity\\\": \\\"cream of chicken soup\\\"},{\\\"start\\\": 72, \\\"end\\\": 73, \\\"type\\\": \\\"QUANTITY\\\", \\\"entity\\\": \\\"1\\\"},{\\\"start\\\": 75, \\\"end\\\": 76, \\\"type\\\": \\\"QUANTITY\\\", \\\"entity\\\": \\\"4\\\"},{\\\"start\\\": 77, \\\"end\\\": 82, \\\"type\\\": \\\"UNIT\\\", \\\"entity\\\": \\\"ounce\\\"},{\\\"start\\\": 84, \\\"end\\\": 87, \\\"type\\\": \\\"UNIT\\\", \\\"entity\\\": \\\"can\\\"},{\\\"start\\\": 88, \\\"end\\\": 93, \\\"type\\\": \\\"COLOR\\\", \\\"entity\\\": \\\"green\\\"},{\\\"start\\\": 94, \\\"end\\\": 101, \\\"type\\\": \\\"FOOD\\\", \\\"entity\\\": \\\"chilies\\\"},{\\\"start\\\": 102, \\\"end\\\": 103, \\\"type\\\": \\\"QUANTITY\\\", \\\"entity\\\": \\\"1\\\"},{\\\"start\\\": 104, \\\"end\\\": 107, \\\"type\\\": \\\"UNIT\\\", \\\"entity\\\": \\\"bag\\\"},{\\\"start\\\": 108, \\\"end\\\": 121, \\\"type\\\": \\\"FOOD\\\", \\\"entity\\\": \\\"plain Doritos\\\"}]\"\n        ],\n        \"semantic_type\": \"\",\n        \"description\": \"\"\n      }\n    }\n  ]\n}"
            }
          },
          "metadata": {},
          "execution_count": 6
        }
      ]
    },
    {
      "cell_type": "code",
      "source": [
        "recipes, entities = prepare_data(\"TASTEset.csv\")"
      ],
      "metadata": {
        "id": "Mq_iERi5HGB-"
      },
      "execution_count": null,
      "outputs": []
    },
    {
      "cell_type": "code",
      "source": [
        "recipes[0], entities[0]"
      ],
      "metadata": {
        "colab": {
          "base_uri": "https://localhost:8080/"
        },
        "id": "mRWuz2fOHOzS",
        "outputId": "ebe897a3-e93e-4ca4-b894-420bde0e05dc"
      },
      "execution_count": null,
      "outputs": [
        {
          "output_type": "execute_result",
          "data": {
            "text/plain": [
              "('5 ounces rum\\n4 ounces triple sec\\n3 ounces Tia Maria\\n20 ounces orange juice\\n',\n",
              " [(0, 1, 'QUANTITY'),\n",
              "  (2, 8, 'UNIT'),\n",
              "  (9, 12, 'FOOD'),\n",
              "  (13, 14, 'QUANTITY'),\n",
              "  (15, 21, 'UNIT'),\n",
              "  (22, 32, 'FOOD'),\n",
              "  (33, 34, 'QUANTITY'),\n",
              "  (35, 41, 'UNIT'),\n",
              "  (42, 51, 'FOOD'),\n",
              "  (52, 54, 'QUANTITY'),\n",
              "  (55, 61, 'UNIT'),\n",
              "  (62, 74, 'FOOD')])"
            ]
          },
          "metadata": {},
          "execution_count": 10
        }
      ]
    },
    {
      "cell_type": "code",
      "source": [
        "TD = []\n",
        "for i in range(len(recipes)):\n",
        "  TD.append([recipes[i],{'entities':[[t for t in x] for x in entities[i]]}])"
      ],
      "metadata": {
        "id": "lHfQ8VcuHWwX"
      },
      "execution_count": null,
      "outputs": []
    },
    {
      "cell_type": "code",
      "source": [
        "TD[0]"
      ],
      "metadata": {
        "colab": {
          "base_uri": "https://localhost:8080/"
        },
        "id": "tTJS3XApHv9o",
        "outputId": "0ea3abe9-44e2-485a-affc-254840bb7773"
      },
      "execution_count": null,
      "outputs": [
        {
          "output_type": "execute_result",
          "data": {
            "text/plain": [
              "['5 ounces rum\\n4 ounces triple sec\\n3 ounces Tia Maria\\n20 ounces orange juice\\n',\n",
              " {'entities': [[0, 1, 'QUANTITY'],\n",
              "   [2, 8, 'UNIT'],\n",
              "   [9, 12, 'FOOD'],\n",
              "   [13, 14, 'QUANTITY'],\n",
              "   [15, 21, 'UNIT'],\n",
              "   [22, 32, 'FOOD'],\n",
              "   [33, 34, 'QUANTITY'],\n",
              "   [35, 41, 'UNIT'],\n",
              "   [42, 51, 'FOOD'],\n",
              "   [52, 54, 'QUANTITY'],\n",
              "   [55, 61, 'UNIT'],\n",
              "   [62, 74, 'FOOD']]}]"
            ]
          },
          "metadata": {},
          "execution_count": 12
        }
      ]
    },
    {
      "cell_type": "code",
      "source": [
        "def get_spacy_doc(file, data):\n",
        "  # Create a blank spaCy pipeline\n",
        "  nlp = spacy.blank('en')\n",
        "  db = DocBin()\n",
        "\n",
        "  for text, entities in TD:\n",
        "    doc = nlp.make_doc(text)\n",
        "    ents = []\n",
        "\n",
        "    for start, end, label in entities['entities']:\n",
        "      try:\n",
        "        span = doc.char_span(start, end, label=label, alignment_mode='strict')\n",
        "      except:\n",
        "        continue\n",
        "\n",
        "      if span is None:\n",
        "        # Log errors for annotations that couldn't be processed\n",
        "        err_data = str([start, end]) + \"    \" + str(text) + \"\\n\"\n",
        "        file.write(err_data)\n",
        "      else:\n",
        "        ents.append(span)\n",
        "\n",
        "    try:\n",
        "      doc.ents = ents\n",
        "      db.add(doc)\n",
        "    except:\n",
        "      pass\n",
        "\n",
        "  return db"
      ],
      "metadata": {
        "id": "0Gx_sQ6NHw1t"
      },
      "execution_count": null,
      "outputs": []
    },
    {
      "cell_type": "code",
      "source": [
        "# Split the annotated data into training and testing sets\n",
        "from sklearn.model_selection import train_test_split\n",
        "train, test = train_test_split(TD, test_size=0.2)\n",
        "\n",
        "# Display the number of items in the training and testing sets\n",
        "len(train), len(test)\n",
        "\n",
        "# Open a file to log errors during annotation processing\n",
        "file = open('/content/drive/MyDrive/Custom_Ner_For_Ingredients/train_file.txt','w')\n",
        "\n",
        "# Create spaCy DocBin objects for training and testing data\n",
        "db = get_spacy_doc(file, train)\n",
        "db.to_disk('/content/drive/MyDrive/Custom_Ner_For_Ingredients/train_data.spacy')\n",
        "\n",
        "db = get_spacy_doc(file, test)\n",
        "db.to_disk('/content/drive/MyDrive/Custom_Ner_For_Ingredients/test_data.spacy')\n",
        "\n",
        "# Close the error log file\n",
        "file.close()"
      ],
      "metadata": {
        "colab": {
          "base_uri": "https://localhost:8080/"
        },
        "id": "ex-nxGaTIWSn",
        "outputId": "f0751fd3-a414-4642-c83b-3a3f78a57341"
      },
      "execution_count": null,
      "outputs": [
        {
          "output_type": "stream",
          "name": "stderr",
          "text": [
            "/usr/local/lib/python3.10/dist-packages/spacy/util.py:1740: UserWarning: [W111] Jupyter notebook detected: if using `prefer_gpu()` or `require_gpu()`, include it in the same cell right before `spacy.load()` to ensure that the model is loaded on the correct device. More information: http://spacy.io/usage/v3#jupyter-notebook-gpu\n",
            "  warnings.warn(Warnings.W111)\n"
          ]
        }
      ]
    },
    {
      "cell_type": "code",
      "source": [
        "!python -m spacy init fill-config /content/drive/MyDrive/Custom_Ner_For_Ingredients/base_config.cfg /content/drive/MyDrive/Custom_Ner_For_Ingredients/default_config.cfg"
      ],
      "metadata": {
        "colab": {
          "base_uri": "https://localhost:8080/"
        },
        "id": "1YslLvf7JcQW",
        "outputId": "9ce25ec1-69bf-4108-dcd7-6adcb43074c4"
      },
      "execution_count": null,
      "outputs": [
        {
          "output_type": "stream",
          "name": "stdout",
          "text": [
            "/usr/local/lib/python3.10/dist-packages/transformers/utils/generic.py:441: FutureWarning: `torch.utils._pytree._register_pytree_node` is deprecated. Please use `torch.utils._pytree.register_pytree_node` instead.\n",
            "  _torch_pytree._register_pytree_node(\n",
            "/usr/local/lib/python3.10/dist-packages/transformers/utils/generic.py:309: FutureWarning: `torch.utils._pytree._register_pytree_node` is deprecated. Please use `torch.utils._pytree.register_pytree_node` instead.\n",
            "  _torch_pytree._register_pytree_node(\n",
            "\u001b[38;5;2m✔ Auto-filled config with all values\u001b[0m\n",
            "\u001b[38;5;2m✔ Saved config\u001b[0m\n",
            "/content/drive/MyDrive/Custom_Ner_For_Ingredients/default_config.cfg\n",
            "You can now add your data and train your pipeline:\n",
            "python -m spacy train default_config.cfg --paths.train ./train.spacy --paths.dev ./dev.spacy\n"
          ]
        }
      ]
    },
    {
      "cell_type": "code",
      "source": [
        "# Train a spaCy NER model using the provided configuration and data\n",
        "!python -m spacy train /content/drive/MyDrive/Custom_Ner_For_Ingredients/default_config.cfg  --output /content/drive/MyDrive/Custom_Ner_For_Ingredients/output  --paths.train /content/drive/MyDrive/Custom_Ner_For_Ingredients/train_data.spacy  --paths.dev /content/drive/MyDrive/Custom_Ner_For_Ingredients/test_data.spacy --gpu-id 0"
      ],
      "metadata": {
        "colab": {
          "base_uri": "https://localhost:8080/"
        },
        "id": "0dOt9p-VJzX4",
        "outputId": "cdd97342-6e53-4f06-daf9-5bda29cda9f9"
      },
      "execution_count": null,
      "outputs": [
        {
          "output_type": "stream",
          "name": "stdout",
          "text": [
            "\u001b[38;5;4mℹ Saving to output directory:\n",
            "/content/drive/MyDrive/Custom_Ner_For_Ingredients/output\u001b[0m\n",
            "\u001b[38;5;4mℹ Using GPU: 0\u001b[0m\n",
            "\u001b[1m\n",
            "=========================== Initializing pipeline ===========================\u001b[0m\n",
            "/usr/local/lib/python3.10/dist-packages/transformers/utils/generic.py:441: FutureWarning: `torch.utils._pytree._register_pytree_node` is deprecated. Please use `torch.utils._pytree.register_pytree_node` instead.\n",
            "  _torch_pytree._register_pytree_node(\n",
            "/usr/local/lib/python3.10/dist-packages/transformers/utils/generic.py:309: FutureWarning: `torch.utils._pytree._register_pytree_node` is deprecated. Please use `torch.utils._pytree.register_pytree_node` instead.\n",
            "  _torch_pytree._register_pytree_node(\n",
            "/usr/local/lib/python3.10/dist-packages/huggingface_hub/file_download.py:1150: FutureWarning: `resume_download` is deprecated and will be removed in version 1.0.0. Downloads always resume when possible. If you want to force a new download, use `force_download=True`.\n",
            "  warnings.warn(\n",
            "tokenizer_config.json: 100% 25.0/25.0 [00:00<00:00, 178kB/s]\n",
            "config.json: 100% 481/481 [00:00<00:00, 3.91MB/s]\n",
            "vocab.json: 100% 899k/899k [00:00<00:00, 3.41MB/s]\n",
            "merges.txt: 100% 456k/456k [00:00<00:00, 2.29MB/s]\n",
            "tokenizer.json: 100% 1.36M/1.36M [00:00<00:00, 4.10MB/s]\n",
            "/usr/local/lib/python3.10/dist-packages/transformers/utils/generic.py:309: FutureWarning: `torch.utils._pytree._register_pytree_node` is deprecated. Please use `torch.utils._pytree.register_pytree_node` instead.\n",
            "  _torch_pytree._register_pytree_node(\n",
            "/usr/local/lib/python3.10/dist-packages/huggingface_hub/file_download.py:1150: FutureWarning: `resume_download` is deprecated and will be removed in version 1.0.0. Downloads always resume when possible. If you want to force a new download, use `force_download=True`.\n",
            "  warnings.warn(\n",
            "model.safetensors: 100% 499M/499M [00:09<00:00, 51.6MB/s]\n",
            "Some weights of RobertaModel were not initialized from the model checkpoint at roberta-base and are newly initialized: ['roberta.pooler.dense.bias', 'roberta.pooler.dense.weight']\n",
            "You should probably TRAIN this model on a down-stream task to be able to use it for predictions and inference.\n",
            "/usr/local/lib/python3.10/dist-packages/thinc/shims/pytorch.py:114: FutureWarning: `torch.cuda.amp.autocast(args...)` is deprecated. Please use `torch.amp.autocast('cuda', args...)` instead.\n",
            "  with torch.cuda.amp.autocast(self._mixed_precision):\n",
            "\u001b[38;5;2m✔ Initialized pipeline\u001b[0m\n",
            "\u001b[1m\n",
            "============================= Training pipeline =============================\u001b[0m\n",
            "\u001b[38;5;4mℹ Pipeline: ['transformer', 'ner']\u001b[0m\n",
            "\u001b[38;5;4mℹ Initial learn rate: 0.0\u001b[0m\n",
            "E    #       LOSS TRANS...  LOSS NER  ENTS_F  ENTS_P  ENTS_R  SCORE \n",
            "---  ------  -------------  --------  ------  ------  ------  ------\n",
            "/usr/local/lib/python3.10/dist-packages/thinc/shims/pytorch.py:128: FutureWarning: `torch.cuda.amp.autocast(args...)` is deprecated. Please use `torch.amp.autocast('cuda', args...)` instead.\n",
            "  with torch.cuda.amp.autocast(self._mixed_precision):\n",
            "  0       0       21540.94    986.51    0.00    0.00    0.00    0.00\n",
            " 12     200      524464.61  114674.48   96.21   96.28   96.14    0.96\n",
            " 25     400        8344.31   7718.47   99.50   99.40   99.60    0.99\n",
            " 38     600        2540.67   2257.82   99.83   99.83   99.84    1.00\n",
            "\n",
            "\u001b[31mAborted.\u001b[0m\n"
          ]
        }
      ]
    },
    {
      "cell_type": "code",
      "source": [
        "nlp = spacy.load('/content/drive/MyDrive/Custom_Ner_For_Ingredients/output/model-best')\n"
      ],
      "metadata": {
        "colab": {
          "base_uri": "https://localhost:8080/"
        },
        "id": "WEDPTh2uM7in",
        "outputId": "08019f83-2879-454d-bb3e-3f1938024ed4"
      },
      "execution_count": null,
      "outputs": [
        {
          "output_type": "stream",
          "name": "stderr",
          "text": [
            "/usr/local/lib/python3.10/dist-packages/transformers/utils/generic.py:309: FutureWarning: `torch.utils._pytree._register_pytree_node` is deprecated. Please use `torch.utils._pytree.register_pytree_node` instead.\n",
            "  _torch_pytree._register_pytree_node(\n",
            "/usr/local/lib/python3.10/dist-packages/spacy_transformers/layers/hf_shim.py:124: FutureWarning: You are using `torch.load` with `weights_only=False` (the current default value), which uses the default pickle module implicitly. It is possible to construct malicious pickle data which will execute arbitrary code during unpickling (See https://github.com/pytorch/pytorch/blob/main/SECURITY.md#untrusted-models for more details). In a future release, the default value for `weights_only` will be flipped to `True`. This limits the functions that could be executed during unpickling. Arbitrary objects will no longer be allowed to be loaded via this mode unless they are explicitly allowlisted by the user via `torch.serialization.add_safe_globals`. We recommend you start setting `weights_only=True` for any use case where you don't have full control of the loaded file. Please open an issue on GitHub for any issues related to this experimental feature.\n",
            "  self._model.load_state_dict(torch.load(filelike, map_location=device))\n"
          ]
        }
      ]
    },
    {
      "cell_type": "code",
      "source": [
        "strg = \"6 Karela (Bitter Gourd/ Pavakkai) - deseeded,Salt - to taste,1 Onion - thinly sliced,3 tablespoon Gram flour (besan),2 teaspoons Turmeric powder (Haldi),1 tablespoon Red Chilli powder,2 teaspoons Cumin seeds (Jeera),1 tablespoon Coriander Powder (Dhania),1 tablespoon Amchur (Dry Mango Powder),Sunflower Oil - as required\"\n",
        "# Process the extracted text using the loaded spaCy NER model\n",
        "# strg = strg.replace(\"-\", \" \").replace(\",\",\" \")\n",
        "doc = nlp(strg)\n",
        "\n",
        "# Iterate through the named entities (entities) recognized by the model\n",
        "for ent in doc.ents:\n",
        "  # Print the recognized text and its corresponding label\n",
        "  print(ent.text, \"  ->>>>  \", ent.label_)"
      ],
      "metadata": {
        "colab": {
          "base_uri": "https://localhost:8080/"
        },
        "id": "J4WZ3iwANCU0",
        "outputId": "c403afad-b9ce-4cf1-cf32-8aced6b28521"
      },
      "execution_count": null,
      "outputs": [
        {
          "output_type": "stream",
          "name": "stdout",
          "text": [
            "6   ->>>>   QUANTITY\n",
            "Karela   ->>>>   FOOD\n",
            "deseeded   ->>>>   PROCESS\n",
            "Salt   ->>>>   FOOD\n",
            "to taste,1   ->>>>   PURPOSE\n",
            "Onion   ->>>>   FOOD\n",
            "thinly sliced,3   ->>>>   PROCESS\n",
            "tablespoon   ->>>>   UNIT\n",
            "Gram flour   ->>>>   FOOD\n",
            "teaspoons   ->>>>   UNIT\n",
            "Turmeric powder   ->>>>   FOOD\n",
            "tablespoon   ->>>>   UNIT\n",
            "Red Chilli powder,2   ->>>>   FOOD\n",
            "teaspoons   ->>>>   UNIT\n",
            "Cumin seeds   ->>>>   FOOD\n",
            "tablespoon   ->>>>   UNIT\n",
            "Coriander Powder   ->>>>   FOOD\n",
            "tablespoon   ->>>>   UNIT\n",
            "Amchur   ->>>>   FOOD\n",
            "Oil   ->>>>   FOOD\n"
          ]
        }
      ]
    },
    {
      "cell_type": "code",
      "source": [
        "nlp.to_disk(\"/content/drive/MyDrive/Custom_Ner_For_Ingredients/final_model\")"
      ],
      "metadata": {
        "id": "Kpp8aai6NWvQ"
      },
      "execution_count": null,
      "outputs": []
    },
    {
      "cell_type": "code",
      "source": [],
      "metadata": {
        "id": "3cdwEDaUPfH8"
      },
      "execution_count": null,
      "outputs": []
    }
  ]
}